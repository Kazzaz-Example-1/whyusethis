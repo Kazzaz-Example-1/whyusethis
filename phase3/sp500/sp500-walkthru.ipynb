{
 "cells": [
  {
   "cell_type": "markdown",
   "metadata": {},
   "source": [
    "# S&P 500  - Kazzaz's Walkthru\n",
    "## Connect to the SP500 database file\n",
    "Let's start with importing the libraries we need."
   ]
  },
  {
   "cell_type": "code",
   "execution_count": 1,
   "metadata": {},
   "outputs": [],
   "source": [
    "import sqlite3\n",
    "import pandas as pd\n",
    "import numpy as np"
   ]
  },
  {
   "cell_type": "markdown",
   "metadata": {},
   "source": [
    "To keep us all aligned, let's change the \"current working directory\" (cwd) to the starting point we see in the notebook's File Browser on the left.  The cwd is the default place for our notebook to read/write files.  It will also be the starting point when we reference files."
   ]
  },
  {
   "cell_type": "code",
   "execution_count": 2,
   "metadata": {},
   "outputs": [
    {
     "data": {
      "text/plain": [
       "'/home/ec2-user/SageMaker'"
      ]
     },
     "execution_count": 2,
     "metadata": {},
     "output_type": "execute_result"
    }
   ],
   "source": [
    "import os\n",
    "\n",
    "# changing the \"current working directory\"\n",
    "os.chdir('/home/ec2-user/SageMaker/')\n",
    "\n",
    "# confirming cwd is updated\n",
    "os.getcwd()"
   ]
  },
  {
   "cell_type": "markdown",
   "metadata": {},
   "source": [
    "Now with the cwd set to `/home/ec2-user/SageMaker`, any file references we make will start with this location.  Let's see it in action.  Next we need to connect to the sqlite database file.  I already cloned our **Resources** repo using the clone button to the left.  If I right click on the sp500 sqlite file and click \"copy path\", I get the following: `resources/phase3/sp500/sp500.sqlite`.  When I tell the notebook to head to that database fail path, it will start looking from the cwd.  This results in the absolute file to the file being `/home/ec2-user/SageMaker/resources/phase3/sp500/sp500.sqlite`. \n",
    "\n",
    "Let's connect to the data base file using the following:"
   ]
  },
  {
   "cell_type": "code",
   "execution_count": 3,
   "metadata": {},
   "outputs": [],
   "source": [
    "dbSP500 = sqlite3.connect('resources/phase3/sp500/sp500.sqlite')"
   ]
  },
  {
   "cell_type": "markdown",
   "metadata": {},
   "source": [
    "If you don't see a response here, then you're good to go!\n",
    "\n",
    "If you do see an error, it means something is wrong with either the cwd or the file path for the database.  Double check your work."
   ]
  },
  {
   "cell_type": "markdown",
   "metadata": {},
   "source": [
    "## Dataset Questions\n",
    "Let's work through a few example questions to get our head around this dataset.\n",
    "\n",
    "### How large is this dataset?\n",
    "Depends on what we mean by \"large\" here.  Are we talking about tables, rows, or columns?  Let's answer everything to play safe."
   ]
  },
  {
   "cell_type": "code",
   "execution_count": 4,
   "metadata": {},
   "outputs": [
    {
     "name": "stdout",
     "output_type": "stream",
     "text": [
      "    name\n",
      "0  sp500\n"
     ]
    }
   ],
   "source": [
    "queryTables = \"\"\"\n",
    "select name from sqlite_master\n",
    "where type = 'table'\n",
    "\"\"\"\n",
    "\n",
    "dfTables = pd.read_sql_query(queryTables, dbSP500)\n",
    "\n",
    "print(dfTables)"
   ]
  },
  {
   "cell_type": "code",
   "execution_count": 5,
   "metadata": {},
   "outputs": [
    {
     "name": "stdout",
     "output_type": "stream",
     "text": [
      "   count(*)\n",
      "0     17378\n"
     ]
    }
   ],
   "source": [
    "queryRows = \"\"\"\n",
    "select count(*) from sp500\n",
    "\"\"\"\n",
    "\n",
    "dfRows = pd.read_sql_query(queryRows, dbSP500)\n",
    "\n",
    "print(dfRows)"
   ]
  },
  {
   "cell_type": "markdown",
   "metadata": {},
   "source": [
    "We used the `count(*)` SQL statement to get a count of records in the table.  Let's go ahead and pop all that data into a Pandas dataframe."
   ]
  },
  {
   "cell_type": "code",
   "execution_count": 6,
   "metadata": {},
   "outputs": [
    {
     "data": {
      "text/html": [
       "<div>\n",
       "<style scoped>\n",
       "    .dataframe tbody tr th:only-of-type {\n",
       "        vertical-align: middle;\n",
       "    }\n",
       "\n",
       "    .dataframe tbody tr th {\n",
       "        vertical-align: top;\n",
       "    }\n",
       "\n",
       "    .dataframe thead th {\n",
       "        text-align: right;\n",
       "    }\n",
       "</style>\n",
       "<table border=\"1\" class=\"dataframe\">\n",
       "  <thead>\n",
       "    <tr style=\"text-align: right;\">\n",
       "      <th></th>\n",
       "      <th>id</th>\n",
       "      <th>Date</th>\n",
       "      <th>Open</th>\n",
       "      <th>High</th>\n",
       "      <th>Low</th>\n",
       "      <th>Close</th>\n",
       "      <th>Adj Close</th>\n",
       "      <th>Volume</th>\n",
       "    </tr>\n",
       "  </thead>\n",
       "  <tbody>\n",
       "    <tr>\n",
       "      <th>0</th>\n",
       "      <td>1</td>\n",
       "      <td>1950-01-03</td>\n",
       "      <td>16.66</td>\n",
       "      <td>16.66</td>\n",
       "      <td>16.66</td>\n",
       "      <td>16.66</td>\n",
       "      <td>16.66</td>\n",
       "      <td>1260000</td>\n",
       "    </tr>\n",
       "    <tr>\n",
       "      <th>1</th>\n",
       "      <td>2</td>\n",
       "      <td>1950-01-04</td>\n",
       "      <td>16.85</td>\n",
       "      <td>16.85</td>\n",
       "      <td>16.85</td>\n",
       "      <td>16.85</td>\n",
       "      <td>16.85</td>\n",
       "      <td>1890000</td>\n",
       "    </tr>\n",
       "    <tr>\n",
       "      <th>2</th>\n",
       "      <td>3</td>\n",
       "      <td>1950-01-05</td>\n",
       "      <td>16.93</td>\n",
       "      <td>16.93</td>\n",
       "      <td>16.93</td>\n",
       "      <td>16.93</td>\n",
       "      <td>16.93</td>\n",
       "      <td>2550000</td>\n",
       "    </tr>\n",
       "    <tr>\n",
       "      <th>3</th>\n",
       "      <td>4</td>\n",
       "      <td>1950-01-06</td>\n",
       "      <td>16.98</td>\n",
       "      <td>16.98</td>\n",
       "      <td>16.98</td>\n",
       "      <td>16.98</td>\n",
       "      <td>16.98</td>\n",
       "      <td>2010000</td>\n",
       "    </tr>\n",
       "    <tr>\n",
       "      <th>4</th>\n",
       "      <td>5</td>\n",
       "      <td>1950-01-09</td>\n",
       "      <td>17.08</td>\n",
       "      <td>17.08</td>\n",
       "      <td>17.08</td>\n",
       "      <td>17.08</td>\n",
       "      <td>17.08</td>\n",
       "      <td>2520000</td>\n",
       "    </tr>\n",
       "  </tbody>\n",
       "</table>\n",
       "</div>"
      ],
      "text/plain": [
       "  id        Date   Open   High    Low  Close Adj Close   Volume\n",
       "0  1  1950-01-03  16.66  16.66  16.66  16.66     16.66  1260000\n",
       "1  2  1950-01-04  16.85  16.85  16.85  16.85     16.85  1890000\n",
       "2  3  1950-01-05  16.93  16.93  16.93  16.93     16.93  2550000\n",
       "3  4  1950-01-06  16.98  16.98  16.98  16.98     16.98  2010000\n",
       "4  5  1950-01-09  17.08  17.08  17.08  17.08     17.08  2520000"
      ]
     },
     "execution_count": 6,
     "metadata": {},
     "output_type": "execute_result"
    }
   ],
   "source": [
    "queryData = \"\"\"\n",
    "select * from sp500\n",
    "\"\"\"\n",
    "\n",
    "dfSP500 = pd.read_sql_query(queryData, dbSP500)\n",
    "\n",
    "dfSP500.head(5) # show the first five records"
   ]
  },
  {
   "cell_type": "markdown",
   "metadata": {},
   "source": [
    "Now with the data in a data frame, let's count the number of columns we found.  There's several ways to go about this.  Here we'll use a Python loop and count the number of iterations (i) we go through."
   ]
  },
  {
   "cell_type": "code",
   "execution_count": 7,
   "metadata": {},
   "outputs": [
    {
     "name": "stdout",
     "output_type": "stream",
     "text": [
      "id\n",
      "Date\n",
      "Open\n",
      "High\n",
      "Low\n",
      "Close\n",
      "Adj Close\n",
      "Volume\n",
      "\n",
      "Found 8 columns\n"
     ]
    }
   ],
   "source": [
    "i = 0 # set an iteration variable to zero\n",
    "\n",
    "for col in dfSP500: # set a loop based on the columns in the dataframe\n",
    "    print(col) # print the column to screen\n",
    "    i += 1 # increment i by 1\n",
    "    \n",
    "print(\"\\nFound %s columns\" % i) # print the column count to screen"
   ]
  },
  {
   "cell_type": "markdown",
   "metadata": {},
   "source": [
    "### What is the highest S&P500 price recorded in the dataset?"
   ]
  },
  {
   "cell_type": "markdown",
   "metadata": {},
   "source": [
    "A simple way to do this is to find the MAX value in the column \"high\"."
   ]
  },
  {
   "cell_type": "code",
   "execution_count": 8,
   "metadata": {},
   "outputs": [
    {
     "name": "stdout",
     "output_type": "stream",
     "text": [
      "SQL Result: \n",
      "\n",
      "   max(high)\n",
      "0    999.61\n",
      "\n",
      "\n",
      "\n",
      "\n",
      "Pandas Result: \n",
      "\n",
      " 999.61\n"
     ]
    }
   ],
   "source": [
    "# SQL\n",
    "queryHighPrice = \"\"\"\n",
    "select max(high) from sp500\n",
    "\"\"\"\n",
    "\n",
    "resultHighPriceSQL = pd.read_sql_query(queryHighPrice, dbSP500)\n",
    "\n",
    "print(\"SQL Result: \\n\\n %s\" % resultHighPriceSQL)\n",
    "\n",
    "print(\"\\n\\n\\n\") # print three blank lines\n",
    "\n",
    "# Pandas\n",
    "resultHighPricePandas = dfSP500['High'].max()\n",
    "# NOTE: The source we hit here is the dataframe with all the records\n",
    "\n",
    "print(\"Pandas Result: \\n\\n %s\" % resultHighPricePandas)"
   ]
  },
  {
   "cell_type": "markdown",
   "metadata": {},
   "source": [
    "While we technically answered the question of how high the price was, we don't know when that happened.  Let's answer the question fully: how much was the highest price and when was it?"
   ]
  },
  {
   "cell_type": "code",
   "execution_count": 9,
   "metadata": {},
   "outputs": [
    {
     "name": "stdout",
     "output_type": "stream",
     "text": [
      "SQL Result: \n",
      "\n",
      "       id        Date    Open    High     Low   Close Adj Close      Volume\n",
      "0  15004  2009-08-19  986.88  999.61  980.62  996.46    996.46  4257000000\n",
      "\n",
      "\n",
      "\n",
      "\n",
      "Pandas Result: \n",
      "\n",
      "          id        Date    Open    High     Low   Close Adj Close      Volume\n",
      "15003  15004  2009-08-19  986.88  999.61  980.62  996.46    996.46  4257000000\n"
     ]
    }
   ],
   "source": [
    "# SQL\n",
    "queryHighPriceWhen = \"\"\"\n",
    "select * from sp500\n",
    "where high = (select max(high) from sp500)\n",
    "\"\"\"\n",
    "\n",
    "resultHighPriceWhenSQL = pd.read_sql_query(queryHighPriceWhen, dbSP500)\n",
    "\n",
    "print(\"SQL Result: \\n\\n %s\" % resultHighPriceWhenSQL)\n",
    "\n",
    "print(\"\\n\\n\\n\") # print three blank lines\n",
    "\n",
    "# Pandas\n",
    "\n",
    "resultHighPriceWhenPandas = dfSP500[dfSP500['High']==dfSP500['High'].max()]\n",
    "\n",
    "print(\"Pandas Result: \\n\\n%s\" % resultHighPriceWhenPandas)"
   ]
  },
  {
   "cell_type": "markdown",
   "metadata": {},
   "source": [
    "### What's the max, average, and min close price for latest 20 years in the S&P500 dataset?"
   ]
  },
  {
   "cell_type": "markdown",
   "metadata": {},
   "source": [
    "Let's unpack what that's asking us.\n",
    "* We expect a single row for every year recorded.\n",
    "* We expect the latest 20 years in the dataset.\n",
    "* We need three different calculations (max, avg, min) for each year recorded."
   ]
  },
  {
   "cell_type": "code",
   "execution_count": 10,
   "metadata": {},
   "outputs": [
    {
     "name": "stdout",
     "output_type": "stream",
     "text": [
      "SQL Result: \n",
      "\n",
      "     year max_close    avg_close min_close\n",
      "0   2019   2670.71  2593.305294   2447.89\n",
      "1   2018   2930.75  2746.214422    2351.1\n",
      "2   2017   2690.16  2449.076375   2257.83\n",
      "3   2016   2271.72  2094.651270   1829.08\n",
      "4   2015   2130.82  2061.067738   1867.61\n",
      "5   2014   2090.57  1931.376111   1741.89\n",
      "6   2013   1848.36  1643.798968   1457.15\n",
      "7   2012   1465.77  1379.354160   1277.06\n",
      "8   2011   1363.61  1267.638810   1099.23\n",
      "9   2010   1259.78  1139.965516   1022.58\n",
      "10  2009    998.04   948.046389   1002.63\n",
      "11  2008    998.01  1220.042055   1003.35\n",
      "12  2007   1565.15  1477.184343   1374.12\n",
      "13  2006   1427.09  1310.461235   1223.69\n",
      "14  2005   1272.74  1207.229444    1137.5\n",
      "15  2004   1213.55  1130.649444   1063.23\n",
      "16  2003    999.74   965.227540    1000.3\n",
      "17  2002    992.72   993.934802   1006.29\n",
      "18  2001    984.54  1194.178992   1003.45\n",
      "19  2000   1527.46  1427.221071   1264.74\n"
     ]
    }
   ],
   "source": [
    "#SQL\n",
    "queryYearlySummaryQuery = \"\"\"\n",
    "select \n",
    "  substr(date, 1,4) as year,\n",
    "  max(close) as max_close, \n",
    "  avg(close) as avg_close, \n",
    "  min(close) as min_close\n",
    "from sp500\n",
    "group by substr(date, 1,4)\n",
    "order by substr(date, 1,4) desc\n",
    "limit 20\n",
    "\"\"\"\n",
    "\n",
    "resultYearlySummarySQL = pd.read_sql_query(queryYearlySummaryQuery, dbSP500)\n",
    "\n",
    "print(\"SQL Result: \\n\\n %s\" % resultYearlySummarySQL)"
   ]
  },
  {
   "cell_type": "code",
   "execution_count": 37,
   "metadata": {},
   "outputs": [
    {
     "data": {
      "text/html": [
       "<div>\n",
       "<style scoped>\n",
       "    .dataframe tbody tr th:only-of-type {\n",
       "        vertical-align: middle;\n",
       "    }\n",
       "\n",
       "    .dataframe tbody tr th {\n",
       "        vertical-align: top;\n",
       "    }\n",
       "\n",
       "    .dataframe thead tr th {\n",
       "        text-align: left;\n",
       "    }\n",
       "\n",
       "    .dataframe thead tr:last-of-type th {\n",
       "        text-align: right;\n",
       "    }\n",
       "</style>\n",
       "<table border=\"1\" class=\"dataframe\">\n",
       "  <thead>\n",
       "    <tr>\n",
       "      <th></th>\n",
       "      <th colspan=\"3\" halign=\"left\">Close</th>\n",
       "    </tr>\n",
       "    <tr>\n",
       "      <th></th>\n",
       "      <th>max</th>\n",
       "      <th>mean</th>\n",
       "      <th>min</th>\n",
       "    </tr>\n",
       "    <tr>\n",
       "      <th>Year</th>\n",
       "      <th></th>\n",
       "      <th></th>\n",
       "      <th></th>\n",
       "    </tr>\n",
       "  </thead>\n",
       "  <tbody>\n",
       "    <tr>\n",
       "      <th>2019</th>\n",
       "      <td>2670.71</td>\n",
       "      <td>2593.305294</td>\n",
       "      <td>2447.89</td>\n",
       "    </tr>\n",
       "    <tr>\n",
       "      <th>2018</th>\n",
       "      <td>2930.75</td>\n",
       "      <td>2746.214422</td>\n",
       "      <td>2351.10</td>\n",
       "    </tr>\n",
       "    <tr>\n",
       "      <th>2017</th>\n",
       "      <td>2690.16</td>\n",
       "      <td>2449.076375</td>\n",
       "      <td>2257.83</td>\n",
       "    </tr>\n",
       "    <tr>\n",
       "      <th>2016</th>\n",
       "      <td>2271.72</td>\n",
       "      <td>2094.651270</td>\n",
       "      <td>1829.08</td>\n",
       "    </tr>\n",
       "    <tr>\n",
       "      <th>2015</th>\n",
       "      <td>2130.82</td>\n",
       "      <td>2061.067738</td>\n",
       "      <td>1867.61</td>\n",
       "    </tr>\n",
       "    <tr>\n",
       "      <th>2014</th>\n",
       "      <td>2090.57</td>\n",
       "      <td>1931.376111</td>\n",
       "      <td>1741.89</td>\n",
       "    </tr>\n",
       "    <tr>\n",
       "      <th>2013</th>\n",
       "      <td>1848.36</td>\n",
       "      <td>1643.798968</td>\n",
       "      <td>1457.15</td>\n",
       "    </tr>\n",
       "    <tr>\n",
       "      <th>2012</th>\n",
       "      <td>1465.77</td>\n",
       "      <td>1379.354160</td>\n",
       "      <td>1277.06</td>\n",
       "    </tr>\n",
       "    <tr>\n",
       "      <th>2011</th>\n",
       "      <td>1363.61</td>\n",
       "      <td>1267.638810</td>\n",
       "      <td>1099.23</td>\n",
       "    </tr>\n",
       "    <tr>\n",
       "      <th>2010</th>\n",
       "      <td>1259.78</td>\n",
       "      <td>1139.965516</td>\n",
       "      <td>1022.58</td>\n",
       "    </tr>\n",
       "    <tr>\n",
       "      <th>2009</th>\n",
       "      <td>1127.78</td>\n",
       "      <td>948.046389</td>\n",
       "      <td>676.53</td>\n",
       "    </tr>\n",
       "    <tr>\n",
       "      <th>2008</th>\n",
       "      <td>1447.16</td>\n",
       "      <td>1220.042055</td>\n",
       "      <td>752.44</td>\n",
       "    </tr>\n",
       "    <tr>\n",
       "      <th>2007</th>\n",
       "      <td>1565.15</td>\n",
       "      <td>1477.184343</td>\n",
       "      <td>1374.12</td>\n",
       "    </tr>\n",
       "    <tr>\n",
       "      <th>2006</th>\n",
       "      <td>1427.09</td>\n",
       "      <td>1310.461235</td>\n",
       "      <td>1223.69</td>\n",
       "    </tr>\n",
       "    <tr>\n",
       "      <th>2005</th>\n",
       "      <td>1272.74</td>\n",
       "      <td>1207.229444</td>\n",
       "      <td>1137.50</td>\n",
       "    </tr>\n",
       "    <tr>\n",
       "      <th>2004</th>\n",
       "      <td>1213.55</td>\n",
       "      <td>1130.649444</td>\n",
       "      <td>1063.23</td>\n",
       "    </tr>\n",
       "    <tr>\n",
       "      <th>2003</th>\n",
       "      <td>1111.92</td>\n",
       "      <td>965.227540</td>\n",
       "      <td>800.73</td>\n",
       "    </tr>\n",
       "    <tr>\n",
       "      <th>2002</th>\n",
       "      <td>1172.51</td>\n",
       "      <td>993.934802</td>\n",
       "      <td>776.76</td>\n",
       "    </tr>\n",
       "    <tr>\n",
       "      <th>2001</th>\n",
       "      <td>1373.73</td>\n",
       "      <td>1194.178992</td>\n",
       "      <td>965.80</td>\n",
       "    </tr>\n",
       "    <tr>\n",
       "      <th>2000</th>\n",
       "      <td>1527.46</td>\n",
       "      <td>1427.221071</td>\n",
       "      <td>1264.74</td>\n",
       "    </tr>\n",
       "  </tbody>\n",
       "</table>\n",
       "</div>"
      ],
      "text/plain": [
       "        Close                      \n",
       "          max         mean      min\n",
       "Year                               \n",
       "2019  2670.71  2593.305294  2447.89\n",
       "2018  2930.75  2746.214422  2351.10\n",
       "2017  2690.16  2449.076375  2257.83\n",
       "2016  2271.72  2094.651270  1829.08\n",
       "2015  2130.82  2061.067738  1867.61\n",
       "2014  2090.57  1931.376111  1741.89\n",
       "2013  1848.36  1643.798968  1457.15\n",
       "2012  1465.77  1379.354160  1277.06\n",
       "2011  1363.61  1267.638810  1099.23\n",
       "2010  1259.78  1139.965516  1022.58\n",
       "2009  1127.78   948.046389   676.53\n",
       "2008  1447.16  1220.042055   752.44\n",
       "2007  1565.15  1477.184343  1374.12\n",
       "2006  1427.09  1310.461235  1223.69\n",
       "2005  1272.74  1207.229444  1137.50\n",
       "2004  1213.55  1130.649444  1063.23\n",
       "2003  1111.92   965.227540   800.73\n",
       "2002  1172.51   993.934802   776.76\n",
       "2001  1373.73  1194.178992   965.80\n",
       "2000  1527.46  1427.221071  1264.74"
      ]
     },
     "execution_count": 37,
     "metadata": {},
     "output_type": "execute_result"
    }
   ],
   "source": [
    "# Pandas\n",
    "\n",
    "dfSP500Work = dfSP500\n",
    "\n",
    "dfSP500Work['Year'] = dfSP500Work['Date'].str.slice(stop=4) # create year column\n",
    "dfSP500Work['Close'] = pd.to_numeric(dfSP500Work['Close']) # make Close a numeric field\n",
    "\n",
    "dfSP500Work.groupby(['Year']).agg(\n",
    "    {'Close': ['max', 'mean', 'min']}\n",
    "        ).sort_values(by='Year', ascending=False\n",
    "             ).head(20)\n"
   ]
  }
 ],
 "metadata": {
  "kernelspec": {
   "display_name": "conda_python3",
   "language": "python",
   "name": "conda_python3"
  },
  "language_info": {
   "codemirror_mode": {
    "name": "ipython",
    "version": 3
   },
   "file_extension": ".py",
   "mimetype": "text/x-python",
   "name": "python",
   "nbconvert_exporter": "python",
   "pygments_lexer": "ipython3",
   "version": "3.6.5"
  }
 },
 "nbformat": 4,
 "nbformat_minor": 4
}
